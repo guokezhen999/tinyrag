{
 "cells": [
  {
   "cell_type": "code",
   "id": "initial_id",
   "metadata": {
    "collapsed": true,
    "ExecuteTime": {
     "end_time": "2025-07-09T13:34:57.001126Z",
     "start_time": "2025-07-09T13:34:56.990335Z"
    }
   },
   "source": [
    "from rag.vector_base import VectorStore\n",
    "from rag.utils import ReadFiles\n",
    "from rag.embeddings import BgeEmbedding\n",
    "from rag.llm import GeminiChat"
   ],
   "outputs": [],
   "execution_count": 5
  },
  {
   "metadata": {},
   "cell_type": "markdown",
   "source": "## 构建向量数据库",
   "id": "395e3d837633f9e0"
  },
  {
   "metadata": {
    "ExecuteTime": {
     "end_time": "2025-07-09T13:37:01.763295Z",
     "start_time": "2025-07-09T13:36:59.550075Z"
    }
   },
   "cell_type": "code",
   "source": [
    "reader = ReadFiles('data/1')\n",
    "docs = reader.get_content(max_token_len=2048, cover_content=512)"
   ],
   "id": "469f9bc5bc19f67d",
   "outputs": [],
   "execution_count": 8
  },
  {
   "metadata": {
    "ExecuteTime": {
     "end_time": "2025-07-09T13:39:10.568731Z",
     "start_time": "2025-07-09T13:37:03.385698Z"
    }
   },
   "cell_type": "code",
   "source": [
    "embedding = BgeEmbedding(device='mps')\n",
    "vector_store = VectorStore(docs)\n",
    "vectors = vector_store.get_vector(embedding)\n",
    "vector_store.persist(file='stochastic_process')"
   ],
   "id": "e13394c4e58e4b29",
   "outputs": [
    {
     "name": "stderr",
     "output_type": "stream",
     "text": [
      "Calculating embeddings:   0%|          | 0/87 [00:00<?, ?it/s]huggingface/tokenizers: The current process just got forked, after parallelism has already been used. Disabling parallelism to avoid deadlocks...\n",
      "To disable this warning, you can either:\n",
      "\t- Avoid using `tokenizers` before the fork if possible\n",
      "\t- Explicitly set the environment variable TOKENIZERS_PARALLELISM=(true | false)\n",
      "Calculating embeddings: 100%|██████████| 87/87 [02:02<00:00,  1.41s/it]\n"
     ]
    }
   ],
   "execution_count": 9
  },
  {
   "metadata": {},
   "cell_type": "markdown",
   "source": "## 加载向量数据库并测试",
   "id": "92b30932a754aa35"
  },
  {
   "metadata": {
    "ExecuteTime": {
     "end_time": "2025-07-09T13:44:45.326833Z",
     "start_time": "2025-07-09T13:44:39.739169Z"
    }
   },
   "cell_type": "code",
   "source": [
    "vector_store = VectorStore()\n",
    "vector_store.load_vector(file='stochastic_process')\n",
    "embedding = BgeEmbedding(device='mps')\n",
    "question = '停时是什么？'\n",
    "content = vector_store.query(question, EmbeddingModel=embedding, k=1)[0]\n",
    "print(content)"
   ],
   "id": "ee958743339a5c2c",
   "outputs": [
    {
     "name": "stdout",
     "output_type": "stream",
     "text": [
      "�性质 .\n",
      "定义 10.2.1. 假设T: Ω![0,+1]是一个随机变量 .如果对于任何的\n",
      "t\u00150,(T\u0014t)2 Ft,那么 ,我们称T是个停时 (stopping time) .150 第十章 连续时间鞅\n",
      "定义 10.2.2.假设T是一个停时 .那么 ,定义T之前的历史生成的事件域\n",
      "FT:\n",
      "FT=fA2 F :8t\u00150,A\\ fT\u0014tg 2 F tg.\n",
      "可以验证 FT确实是个事件域 .\n",
      "回忆域流的右极限 (Ft+)t≥0.由于Ft\u001A F t+,所以 ,如果T关于域流\n",
      "(Ft)t≥0是停时 ,那么 ,对于域流 (Ft+)t≥0也是域流 .反之 ,不一定成立 .可\n",
      "以证明T是关于域流 (Ft+)t≥0的停时 ,当且仅当 8t\u00150,(T <t )2 F t.类\n",
      "似于FT,给定关于域流 (Ft+)t≥0的停时T,我们定义事件域\n",
      "FT+=fA2 F :8t\u00150,A\\ fT <tg 2 F tg.\n",
      "令Gt=Ft+.那么 ,可以验证\n",
      "FT+=GT.\n",
      "接下来 ,我们陈述一些关于停时及相应事件域的性质 :\n",
      "1.如果停时T恒等于确定性时刻 t,那么 ,FT=Ft,FT+=Ft+.\n",
      "2.停时T关于事件域 FT可测 .\n",
      "3.假设两个停时 S和T满足S\u0014T,那么 ,FS\u001A F T并且FS+\u001A F T+.\n",
      "4.假设S和T是两个停时 .那么 ,S^T,S_T也是停时 .并且FS∧T=\n",
      "FS\\ FT.除此以外 ,事件fS\u0014Tg和事件 fS=Tg被包含于 FS∧T.\n",
      "5.假设T是停时而A2 F∞.定义\n",
      "TA(ω) =(\n",
      "T(ω), ω2A;\n",
      "+1, ω /2A.\n",
      "那么 ,A2 FT当且仅当TA是停时 .\n",
      "6.对于所有的停时 T,我们有 FT\u001A F T+.如果域流 (Ft)t≥0是右连续的 ,\n",
      "那么 ,FT=FT+.\n",
      "7.如果 (Sn)n是一列单调不降的停时 ,那么 ,S= limn→∞Sn也是停时 .\n",
      "8.如果 (Sn)n是一列单调不增的停时 ,那么 ,S= limn→∞Sn是关于域流\n",
      "(Ft+)t≥0的停时 ,并且\n",
      "FS+=\\\n",
      "nFSn+.第 10.2节 停时 151\n",
      "9.如果 (Sn)n是一列单调不增的停时 ,并且对所有 ω2Ω,(Sn(ω))n最终\n",
      "是常数列 ,那么 ,S= limn→∞Sn也是停时 ,并且\n",
      "FS=\\\n",
      "nFSn.\n",
      "10.假设T是个停时 .那么 ,定义在 fT < +1g上的在一般可测空间上取\n",
      "值的函数ω7!Y(ω)是关于 FT-可测的 ,当且仅当对于任意的 t\u00150,\n",
      "Y在fT\u0014tg上的限制是 Ft-可测的 .\n",
      "定理 10.2.1.假设 (Xt)t≥0是在一般可测空间上取值的循序可测函数 .假设\n",
      "T是个停时 ,那么 ,定义在 fT < +1g上的函数ω7!XT(ω) :=XT(ω)(ω)\n",
      "是FT-可测的 .\n",
      "提示 .考虑映射ω7!(T(ω),ω)和映射 (s,ω)7!Xs(ω)的复合 .\n",
      "命题 10.2.2.假设T是个停时 .而S是个取值在 [0,+1]之上的 FT-可测\n",
      "的随机变量 .如果S\u0015T,那么 ,S也是个停时 .特别的 ,如果T是个停时 ,\n",
      "那么 ,\n",
      "Tn=+∞X\n",
      "k=0k+ 1\n",
      "2n1k\n",
      "2n≤T<k+1\n",
      "2n+1 \u00011T=+∞,n= 0,1,2,...\n",
      "定义了一列下降到 T的停时 .\n",
      "定理 10.2.3.假设 (Xt)t≥0是在某个度量空间上取值的适应的随机过程 .\n",
      "(1)假设 (Xt)t≥0的轨道是右连续的 ,而O是E中的开集 .那么 ,\n",
      "TO= infft\u00150 :Xt2Og\n",
      "是关于域流 (Ft+)t≥0的停时 .\n",
      "(2)假设 (Xt)t≥0的轨道是连续的 ,而F是E中的闭集 .那么 ,\n",
      "TF= infft\u00150 :Xt2Fg\n",
      "是 (关于域流 (Ft)t≥0的)停时 .\n",
      "证明 . (1)由右连续性和 O是开集的性质 ,fTO< tg=f9s2[0,t)\\Q:\n",
      "Xs2Og.152 第十章 连续时间鞅\n",
      "(2)由于F是闭集并且轨道连续 ,\n",
      "fTF\u0014tg=f9s2[0,t] :Xs2Fg\n",
      "=finffd(Xs,F) :s2[0,t]\\Qg= 0g.\n",
      "第 10.3节 连续时间鞅和下鞅\n",
      "我们假设本节中的过程都是实值的 .\n",
      "定义 10.3.1.假设 (Xt)t≥0是一个适应过程 ,并且8t\u00150,EjXtj<+1.\n",
      "1.如果对于任意的 0\u0014s < t ,E(XtjFs) =Xs,那么 ,我们称 (Xt)t≥0是\n",
      "鞅.\n",
      "2.如果对于任意的 0\u0014s < t ,E(XtjFs)\u0014Xs,那么 ,我们称 (Xt)t≥0是\n",
      "上鞅 .\n",
      "3.如果对于任意的 0\u0014s < t ,E(XtjFs)\u0015Xs,那么 ,我们称 (Xt)t≥0是\n",
      "下鞅 .\n",
      "(Xt)t≥0是上鞅当且仅当 (\u0000Xt)t≥0是下鞅 .因此 ,上鞅的理论与下鞅的\n",
      "理论完全对应 .接下来 ,我们只陈述关于下鞅的理论 .如果 (Xt)t≥0是鞅 ,那\n",
      "么,对于任意的 t\u00150,EXt=EX 0.如果 (Xt)t≥0是下鞅 ,那么 ,对于任意\n",
      "的s\u0014t,EXt\u0015EXs.\n",
      "例 10.2.假设Z是个可积的随机变量 .令Xt=E(ZjFt).那么 ,(Xt)t≥0是\n",
      "鞅,称为可闭鞅 .注意不是所有的鞅都是可闭鞅 .\n",
      "接下来 ,我们介绍几种鞅的重要例子 .\n",
      "例 10.3.假设 (Zt)t≥0是实值适应过程 ,并且对于 0\u0014s<t ,其增量Zt\u0000Zs\n",
      "与Fs独立 . (后者被我们称为关于 (Ft)t≥0的独立增量性质 .)例如 ,布朗运\n",
      "动(Bt)t≥0关于典范域流 (canonical filtration) 就满足这些性质 .\n",
      "1.如果8t\u00150,EjZtj<+1,那么 ,Xt=Zt\n"
     ]
    }
   ],
   "execution_count": 19
  },
  {
   "metadata": {
    "ExecuteTime": {
     "end_time": "2025-07-09T13:44:50.526850Z",
     "start_time": "2025-07-09T13:44:48.113252Z"
    }
   },
   "cell_type": "code",
   "source": [
    "chat = GeminiChat(model='gemini-2.5-flash')\n",
    "res = chat.chat(question, [], content)\n",
    "from IPython.display import Markdown, display\n",
    "display(Markdown(res))"
   ],
   "id": "c98190f76abbc7ab",
   "outputs": [
    {
     "data": {
      "text/plain": [
       "<IPython.core.display.Markdown object>"
      ],
      "text/markdown": "停时（stopping time）的定义如下：\n\n假设T: Ω![0,+1]是一个随机变量。如果对于任何的 t ≥ 0，事件 (T ≤ t) 属于 Ft（即 (T ≤ t) ∈ Ft），那么，我们称T是一个停时。"
     },
     "metadata": {},
     "output_type": "display_data"
    }
   ],
   "execution_count": 20
  },
  {
   "metadata": {},
   "cell_type": "code",
   "outputs": [],
   "execution_count": null,
   "source": "",
   "id": "7c639a7f2b90b09e"
  }
 ],
 "metadata": {
  "kernelspec": {
   "display_name": "Python 3",
   "language": "python",
   "name": "python3"
  },
  "language_info": {
   "codemirror_mode": {
    "name": "ipython",
    "version": 2
   },
   "file_extension": ".py",
   "mimetype": "text/x-python",
   "name": "python",
   "nbconvert_exporter": "python",
   "pygments_lexer": "ipython2",
   "version": "2.7.6"
  }
 },
 "nbformat": 4,
 "nbformat_minor": 5
}
